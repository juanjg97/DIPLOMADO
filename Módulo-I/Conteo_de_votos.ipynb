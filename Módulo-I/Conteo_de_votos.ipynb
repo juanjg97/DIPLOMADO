{
 "cells": [
  {
   "cell_type": "markdown",
   "metadata": {},
   "source": [
    "# Algoritmo para conteo de votos\n",
    "## Desarrollado por: Juan José Jasso Garduño, Septiembre 2022\n",
    "#### Para fines ilustrativos y que se pueda apreciar la lógica y correcto funcionamiento del algoritmo se proponen 10 urnas con 20 votos cada una \n"
   ]
  },
  {
   "cell_type": "markdown",
   "metadata": {},
   "source": [
    "- Se crean variables para el número de urnas, en este caso serán 10\n",
    "- El número de votos por urna será de 20\n",
    "- El número de partidos politicos por los cuales se puede votar son 8\n",
    "- Se crea un vector, que después se convertirá en matriz, cada posición almacenará los votos de cada urna"
   ]
  },
  {
   "cell_type": "code",
   "execution_count": 26,
   "metadata": {},
   "outputs": [
    {
     "name": "stdout",
     "output_type": "stream",
     "text": [
      "----------------------------------------------------\n",
      "Matriz que contendrá los votos de cada urna: \n",
      "[0, 0, 0, 0, 0, 0, 0, 0, 0, 0]\n",
      "El número de urnas es: 10\n",
      "----------------------------------------------------\n"
     ]
    }
   ],
   "source": [
    "#Creación de las urnas \n",
    "num_total_urnas=10\n",
    "num_de_votos_por_urna=20\n",
    "num_total_partidos=8\n",
    "urnas=[]\n",
    "for i in range(num_total_urnas):\n",
    "  urnas.append(0)\n",
    "print(\"----------------------------------------------------\")\n",
    "print(\"Matriz que contendrá los votos de cada urna: \")\n",
    "print(urnas)\n",
    "print(f\"El número de urnas es: {num_total_urnas}\")\n",
    "print(\"----------------------------------------------------\")"
   ]
  },
  {
   "cell_type": "markdown",
   "metadata": {},
   "source": [
    "- Llenamos cada urna aleatoriamente para simular el voto a cualquiera de los 8 partidos"
   ]
  },
  {
   "cell_type": "code",
   "execution_count": 27,
   "metadata": {},
   "outputs": [
    {
     "name": "stdout",
     "output_type": "stream",
     "text": [
      "----------------------------------------------------\n",
      "Cada urna tiene 20 votos\n",
      "\n",
      "Los números dentro de cada urna representan el número de partido por el que se votó\n",
      "\n",
      "Urna no.1 [4, 4, 3, 5, 2, 2, 6, 5, 4, 3, 1, 8, 7, 2, 3, 8, 7, 4, 3, 5]\n",
      "Urna no.2 [7, 6, 1, 8, 1, 4, 8, 8, 1, 6, 6, 5, 4, 8, 7, 1, 1, 1, 8, 5]\n",
      "Urna no.3 [4, 5, 5, 6, 2, 6, 8, 2, 4, 8, 4, 7, 8, 7, 7, 7, 4, 8, 1, 8]\n",
      "Urna no.4 [5, 6, 6, 6, 1, 3, 4, 3, 7, 1, 1, 5, 4, 1, 1, 3, 7, 3, 6, 7]\n",
      "Urna no.5 [7, 6, 6, 6, 2, 4, 6, 6, 5, 2, 8, 4, 4, 2, 3, 3, 1, 1, 1, 8]\n",
      "Urna no.6 [6, 6, 5, 6, 8, 3, 8, 2, 3, 5, 2, 8, 7, 5, 6, 1, 1, 2, 1, 8]\n",
      "Urna no.7 [4, 3, 2, 1, 3, 1, 6, 1, 4, 5, 7, 3, 7, 6, 3, 7, 3, 1, 6, 7]\n",
      "Urna no.8 [1, 7, 7, 6, 7, 7, 8, 3, 6, 3, 4, 2, 8, 1, 4, 4, 4, 4, 5, 4]\n",
      "Urna no.9 [5, 7, 4, 1, 5, 1, 1, 2, 3, 4, 4, 3, 8, 6, 2, 1, 7, 1, 1, 7]\n",
      "Urna no.10 [7, 1, 6, 2, 5, 8, 5, 1, 5, 2, 6, 4, 4, 3, 4, 5, 2, 5, 7, 1]\n",
      "----------------------------------------------------\n"
     ]
    }
   ],
   "source": [
    "import random\n",
    "print(\"----------------------------------------------------\")\n",
    "print(f\"Cada urna tiene {num_de_votos_por_urna} votos\\n\")\n",
    "print(\"Los números dentro de cada urna representan el número de partido por el que se votó\\n\")\n",
    "\n",
    "#Llenamos cada urna con el número de votos designado\n",
    "for i in range(num_total_urnas):\n",
    "  votos=[]\n",
    "  for j in range(num_de_votos_por_urna):\n",
    "    votos.append(random.randrange(1,9,1))\n",
    "  #Agregamos cada urna a la matriz de urnas\n",
    "  urnas[i]=votos\n",
    "\n",
    "#Imprimimos cada urna dentro de urnas\n",
    "for i in range(num_total_urnas):\n",
    "  print(f\"Urna no.{i+1} \"+str(urnas[i]))\n",
    "print(\"----------------------------------------------------\")"
   ]
  },
  {
   "cell_type": "markdown",
   "metadata": {},
   "source": [
    "- Creamos una lista con 8 lugares donde se cuentan los votos para cada paritdo\n",
    " politico\n",
    "- Cada posición de la lista representa el número de votos que obtuvo cada partido \n",
    "- Usamos la función .count para saber cuántos votos tiene un partido en una urna, repetimos este proceso para todos los partidos y para toda la urna"
   ]
  },
  {
   "cell_type": "code",
   "execution_count": 28,
   "metadata": {},
   "outputs": [
    {
     "name": "stdout",
     "output_type": "stream",
     "text": [
      "----------------------------------------------------\n",
      "Votos para cada partido por Urna\n",
      "\n",
      "            P1 P2 P3 P4 P5 P6 P7 P8\n",
      "Urna no. 1 [1, 3, 4, 4, 3, 1, 2, 2]\n",
      "Urna no. 2 [6, 0, 0, 2, 2, 3, 2, 5]\n",
      "Urna no. 3 [1, 2, 0, 4, 2, 2, 4, 5]\n",
      "Urna no. 4 [5, 0, 4, 2, 2, 4, 3, 0]\n",
      "Urna no. 5 [3, 3, 2, 3, 1, 5, 1, 2]\n",
      "Urna no. 6 [3, 3, 2, 0, 3, 4, 1, 4]\n",
      "Urna no. 7 [4, 1, 5, 2, 1, 3, 4, 0]\n",
      "Urna no. 8 [2, 1, 2, 6, 1, 2, 4, 2]\n",
      "Urna no. 9 [6, 2, 2, 3, 2, 1, 3, 1]\n",
      "Urna no. 10 [3, 3, 1, 3, 5, 2, 2, 1]\n",
      "----------------------------------------------------\n"
     ]
    }
   ],
   "source": [
    "def votos_por_urna(num_urna):\n",
    "  conteo_urna=[]\n",
    "  for i in range(num_total_partidos):\n",
    "    #Cuántas veces aparece el número i dentro de la urna num_urna\n",
    "    #Agrega el número de veces que aparece el número i, en la posición i de la lista conteo_urna\n",
    "    conteo_urna.append(urnas[num_urna].count(i+1))\n",
    "  return conteo_urna\n",
    "print(\"----------------------------------------------------\")\n",
    "print(\"Votos para cada partido por Urna\\n\")\n",
    "print(\"            P1 P2 P3 P4 P5 P6 P7 P8\")\n",
    "for i in range(num_total_urnas):\n",
    "  print(f\"Urna no. {i+1} \"+str(votos_por_urna(i)))\n",
    "print(\"----------------------------------------------------\")"
   ]
  },
  {
   "cell_type": "markdown",
   "metadata": {},
   "source": [
    "- Creamos un vector para el conteo de los votos que tiene cada partido"
   ]
  },
  {
   "cell_type": "code",
   "execution_count": 29,
   "metadata": {},
   "outputs": [
    {
     "name": "stdout",
     "output_type": "stream",
     "text": [
      "----------------------------------------------------\n",
      "El partido 1 tiene un total de: 34 votos\n",
      "El partido 2 tiene un total de: 18 votos\n",
      "El partido 3 tiene un total de: 22 votos\n",
      "El partido 4 tiene un total de: 29 votos\n",
      "El partido 5 tiene un total de: 22 votos\n",
      "El partido 6 tiene un total de: 27 votos\n",
      "El partido 7 tiene un total de: 26 votos\n",
      "El partido 8 tiene un total de: 22 votos\n",
      "\n",
      "El número total de votos es: 200\n",
      "\n",
      "El partido ganador es: 1 con 34 votos\n",
      "----------------------------------------------------\n"
     ]
    }
   ],
   "source": [
    "def contador_total_de_votos():\n",
    "  acumuladores=[0,0,0,0,0,0,0,0]\n",
    "\n",
    "  #Cuenta los votos que tiene cada partido, suma los votos para cada partido y almacenalos en el vector acumuladores\n",
    "  for num_partido in range(num_total_partidos):\n",
    "    for num_urna in range(num_total_urnas):\n",
    "      acumuladores[num_partido]=acumuladores[num_partido]+votos_por_urna(num_urna)[num_partido]\n",
    "  print(\"----------------------------------------------------\")\n",
    "  #Muestra la cantidad de votos que tiene cada partido\n",
    "  for i in range(num_total_partidos):\n",
    "    print(f'El partido {i+1} tiene un total de: {acumuladores[i]} votos')\n",
    "\n",
    "  #Muestra el número total de votos\n",
    "  num_total_de_votos=0\n",
    "  for i in range(num_total_partidos):\n",
    "    num_total_de_votos=num_total_de_votos+acumuladores[i]\n",
    "  print(f'\\nEl número total de votos es: {num_total_de_votos}')\n",
    "\n",
    "  #Muestra el partido ganador\n",
    "  mayor_cantidad_votos=max(acumuladores)\n",
    "  indice_partido_ganador=acumuladores.index(mayor_cantidad_votos)\n",
    "  print(f\"\\nEl partido ganador es: {indice_partido_ganador+1} con {mayor_cantidad_votos} votos\")\n",
    "  print(\"----------------------------------------------------\")\n",
    "\n",
    "\n",
    "contador_total_de_votos()"
   ]
  }
 ],
 "metadata": {
  "kernelspec": {
   "display_name": "Python 3.10.5 64-bit",
   "language": "python",
   "name": "python3"
  },
  "language_info": {
   "codemirror_mode": {
    "name": "ipython",
    "version": 3
   },
   "file_extension": ".py",
   "mimetype": "text/x-python",
   "name": "python",
   "nbconvert_exporter": "python",
   "pygments_lexer": "ipython3",
   "version": "3.10.5"
  },
  "orig_nbformat": 4,
  "vscode": {
   "interpreter": {
    "hash": "f09b781fce77ae9c62996c4d19a6ceed3af237a2ed2949b6d53e8a2f2d834901"
   }
  }
 },
 "nbformat": 4,
 "nbformat_minor": 2
}
